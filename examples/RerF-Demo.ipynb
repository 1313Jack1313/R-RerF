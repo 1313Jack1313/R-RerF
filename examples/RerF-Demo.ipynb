{
 "cells": [
  {
   "cell_type": "markdown",
   "metadata": {},
   "source": [
    "# Installing Randomer Forest (RerF)"
   ]
  },
  {
   "cell_type": "code",
   "execution_count": null,
   "metadata": {
    "collapsed": true
   },
   "outputs": [],
   "source": [
    "# install R Randomer Forest package\n",
    "# library(devtools)\n",
    "# install_github(\"neurodata/R-RerF\", subdir = \"rerf\")\n",
    "library(rerf)"
   ]
  },
  {
   "cell_type": "markdown",
   "metadata": {},
   "source": [
    "# Specify the data matrix X and class labels Y for training"
   ]
  },
  {
   "cell_type": "code",
   "execution_count": null,
   "metadata": {
    "collapsed": true
   },
   "outputs": [],
   "source": [
    "# we will use the iris dataset, which has 150 observations, 4 features, and 3 classes\n",
    "X <- as.matrix(iris[1:4]) # can be dataframe, but a matrix is preferred\n",
    "Y <- as.integer(iris[[5]]) # must be numeric (preferably integer) and between 1 and the number of classes\n",
    "p <- ncol(X) # number of dimensions\n",
    "num.class <- length(unique(Y)) # number of classes\n",
    "seed <- 123L\n",
    "\n",
    "library(ggplot2)\n",
    "\n",
    "gghandle <- ggplot(data = iris, mapping = aes(Sepal.Length, Sepal.Width)) + geom_point(aes(colour = Species)) + \n",
    "                   ggtitle(\"Iris Dataset (first two dimensions)\")\n",
    "print(gghandle)"
   ]
  },
  {
   "cell_type": "markdown",
   "metadata": {},
   "source": [
    "# Train a RerF Classifier"
   ]
  },
  {
   "cell_type": "code",
   "execution_count": null,
   "metadata": {
    "collapsed": true
   },
   "outputs": [],
   "source": [
    "models <- vector(mode = \"list\", length = 2L)\n",
    "# train a RerF classifier that samples one split projection per node\n",
    "models[[1L]] <- RerF(X = X, Y = Y, num.class = num.class, trees = 500L, min.parent = 2L, max.depth = \"inf\",\n",
    "               replacement = T, stratify = T, fun = RandMat, options = list(p, 1L, \"binary\", 1/p),\n",
    "               store.oob = T, num.cores = 4L, seed = seed) \n",
    "\n",
    "# train a RerF classifier that samples 3 split projections per node\n",
    "models[[2L]] <- RerF(X = X, Y = Y, num.class = num.class, trees = 500L, min.parent = 2L, max.depth = \"inf\",\n",
    "               replacement = T, stratify = T, fun = RandMat, options = list(p, 4L, \"binary\", 1/p),\n",
    "               store.oob = T, num.cores = 4L, seed = seed) "
   ]
  },
  {
   "cell_type": "markdown",
   "metadata": {},
   "source": [
    "# Select the better of the two models based on OOB error"
   ]
  },
  {
   "cell_type": "code",
   "execution_count": null,
   "metadata": {
    "collapsed": true
   },
   "outputs": [],
   "source": [
    "oobError <- double(2L)\n",
    "\n",
    "# compute oob error for first model\n",
    "oobScores <- OOBPredict(X = X, forest = models[[1L]], num.cores = 4L) # scores/probabilities of being in each class\n",
    "Yhats <- max.col(oobScores)\n",
    "oobError[1L] <- mean(Yhats != Y)\n",
    "print(paste0(\"model 1 OOB error rate: \", sprintf(\"%.2f\", oobError[1L]*100), \"%\"), quote = F)\n",
    "\n",
    "# compute oob error for second model\n",
    "oobScores <- OOBPredict(X = X, forest = models[[2L]], num.cores = 4L)\n",
    "Yhats <- max.col(oobScores)\n",
    "oobError[2L] <- mean(Yhats != Y)\n",
    "print(paste0(\"model 2 OOB error rate: \", sprintf(\"%.2f\", oobError[2L]*100), \"%\"), quote = F)\n",
    "\n",
    "# select the model that has the lower OOB error\n",
    "bestModel <- which(oobError == min(oobError))\n",
    "print(paste0(\"model \", bestModel, \" is the better model\"), quote = F)"
   ]
  },
  {
   "cell_type": "markdown",
   "metadata": {},
   "source": [
    "# Compute error on a new set of observations"
   ]
  },
  {
   "cell_type": "code",
   "execution_count": null,
   "metadata": {
    "collapsed": true
   },
   "outputs": [],
   "source": [
    "scores <- Predict(X = X, forest = models[[bestModel]], num.cores = 4L)\n",
    "Yhats <- max.col(scores)\n",
    "mcr <- mean(Yhats != Y)\n",
    "print(paste0(\"error rate on test set: \", sprintf(\"%.2f\", mcr*100), \"%\"), quote = F)"
   ]
  },
  {
   "cell_type": "markdown",
   "metadata": {},
   "source": [
    "# Compute pairwise similarity between points"
   ]
  },
  {
   "cell_type": "code",
   "execution_count": null,
   "metadata": {
    "collapsed": true
   },
   "outputs": [],
   "source": [
    "sim <- ComputeSimilarity(X = X, forest = models[[bestModel]], num.cores = 4L)\n",
    "\n",
    "library(ggplot2)\n",
    "library(reshape2)\n",
    "PlotSimilarity(mtx = sim, xlabel = \"\", ylabel = \"\", title = \"Iris Dataset\", include_diag = T,\n",
    "               legend.name = \"RerF\\nsimilarity\", xticks = c(25, 75, 125), yticks = c(25, 75, 125),\n",
    "               xticklabels = c(\"25\" = \"setosa\", \"75\" = \"versicolor\", \"125\" = \"virginica\"),\n",
    "               yticklabels = c(\"25\" = \"setosa\", \"75\" = \"versicolor\", \"125\" = \"virginica\"))"
   ]
  },
  {
   "cell_type": "markdown",
   "metadata": {},
   "source": [
    "# Using RerF with categorical data"
   ]
  },
  {
   "cell_type": "code",
   "execution_count": null,
   "metadata": {
    "collapsed": true
   },
   "outputs": [],
   "source": [
    "# categorical features must be one-of-K binary encoded. the categorical features must come after the numeric features\n",
    "X <- as.matrix(read.table(\"~/tmp/uci/processed/data/audiology_std.csv\", header = F, sep = \",\", quote = \"\", row.names = NULL))\n",
    "\n",
    "# read in the csv file that specifies how the one-of-K encoded features are grouped together\n",
    "catMap <- GetCatMap(\"~/tmp/uci/processed/categorical_map/audiology_std_catmap.txt\")\n",
    "\n",
    "# read in the csv file that specifies a 5-fold CV partition\n",
    "fold <- GetFolds(\"~/tmp/uci/processed/cv_partitions/audiology_std_partitions.txt\")\n",
    "\n",
    "pcat <- length(catMap)\n",
    "pnum <- catMap[[1L]][1L] - 1L\n",
    "p <- pcat + pnum\n",
    "p.ohe <- ncol(X) - 1L\n",
    "Y <- as.integer(X[, p.ohe + 1L]) + 1L\n",
    "X <- X[, -(p.ohe + 1L)]\n",
    "nClasses <- length(unique(Y))\n",
    "\n",
    "mtry <- ceiling(p^(1/2))\n",
    "# mtry <- ceiling(p.ohe^(1/2))\n",
    "nTrees <- 500L\n",
    "stratify <- T\n",
    "replacement <- T\n",
    "randomMatrix <- \"binary\"\n",
    "sparsity <- 1/p\n",
    "rotate <- F\n",
    "MinParent <- 2L\n",
    "MaxDepth <- \"inf\"\n",
    "COOB <- T\n",
    "CNS <- F\n",
    "NumCores <- 4L\n",
    "comp.mode <- \"batch\"\n",
    "rank.transform <- F\n",
    "  \n",
    "print(\"training\", quote = F)\n",
    "start.time <- proc.time()\n",
    "oob.error <- double(length(fold))\n",
    "test.error <- double(length(fold))\n",
    "\n",
    "# start 5-fold cross-validation\n",
    "for (k in seq.int(length(fold))) {\n",
    "  train.idx <- unlist(fold[-k])\n",
    "  test.idx <- fold[[k]]\n",
    "  forest <- RerF(X[train.idx, ], Y[train.idx], nClasses, min.parent = MinParent, trees = nTrees, max.depth = MaxDepth, replacement = replacement,\n",
    "                 stratify = stratify, fun = RandMatCat, options = list(p, mtry, randomMatrix, sparsity, catMap), store.oob = COOB,\n",
    "                 store.ns = CNS, num.cores = NumCores, seed = 123L, rotate = rotate, rank.transform = rank.transform)\n",
    "  train.time <- (proc.time() - start.time)[[3]]\n",
    "  print(\"training complete\", quote = F)\n",
    "  cat(paste0(\"elapsed time: \", train.time, \" sec\\n\"))\n",
    "  \n",
    "  # compute out-of-bag predictions\n",
    "  print(\"computing OOB error\", quote = F)\n",
    "  scores <- OOBPredict(X[train.idx, ], forest, NumCores)\n",
    "  oob.error[k] <- mean(max.col(scores) != Y[train.idx])\n",
    "  print(paste0(\"OOB error rate: \", sprintf(\"%.2f\", oob.error[k]*100), \"%\"), quote = F) \n",
    "  \n",
    "  print(\"computing error on held out set\", quote = F)\n",
    "  scores <- Predict(X[test.idx, ], forest, NumCores)\n",
    "  test.error[k] <- mean(max.col(scores) != Y[test.idx])\n",
    "  print(paste0(\"CV error rate: \", sprintf(\"%.2f\", test.error[k]*100), \"%\"), quote = F)\n",
    "}\n"
   ]
  },
  {
   "cell_type": "code",
   "execution_count": null,
   "metadata": {
    "collapsed": true
   },
   "outputs": [],
   "source": []
  }
 ],
 "metadata": {
  "kernelspec": {
   "display_name": "R",
   "language": "R",
   "name": "ir"
  },
  "language_info": {
   "codemirror_mode": "r",
   "file_extension": ".r",
   "mimetype": "text/x-r-source",
   "name": "R",
   "pygments_lexer": "r",
   "version": "3.3.2"
  }
 },
 "nbformat": 4,
 "nbformat_minor": 2
}
